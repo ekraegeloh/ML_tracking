{
 "cells": [
  {
   "cell_type": "markdown",
   "metadata": {},
   "source": [
    "This is (still) the sixth simple toy model to adapt the LLH NN from Ice Cube to tracker geometry. We're using a more realistic detector model now with 32 detector layers separated into 32 bins. The layers are stacked straight, not following the curve of the ring, and tracks are curved. Each bin only registers hit/no hit, with 100% efficiency. Instead of using (z,p,phi), we are now using (x,z,p) and assume that phi=0 always. Hits are NOT Gaussian distributed anymore. \n",
    "\n",
    "Thus, the analytic probility would just be a delta function and the likelihood becomes either 1 or 0, if all the right straws are hit or not respectively. We will only look at the NN output.\n",
    "\n",
    "Training on large parameter range with 1e6 samples. We'll draw the samples here from a truncated Gaussian distribution and compare to uniform distribution in v2.3."
   ]
  },
  {
   "cell_type": "code",
   "execution_count": 1,
   "metadata": {},
   "outputs": [],
   "source": [
    "import numpy as np\n",
    "from matplotlib import pyplot as plt\n",
    "import tensorflow as tf\n",
    "\n",
    "from scipy import stats\n",
    "from scipy import constants\n",
    "from scipy.optimize import minimize\n",
    "from mpl_toolkits.axes_grid1 import make_axes_locatable\n",
    "import types\n",
    "from scipy.optimize import minimize, Bounds\n",
    "\n",
    "from LLH_NN_utils import *"
   ]
  },
  {
   "cell_type": "code",
   "execution_count": 2,
   "metadata": {},
   "outputs": [],
   "source": [
    "#layers at fixed z, giving x position\n",
    "#source has x,z,px,pz\n",
    "# B=1.45\n",
    "\n",
    "#each tracker module has 4 layers of 32 straws, 8 modules in a station\n",
    "#straw tube is 5mm diameter\n",
    "#muons decay 5-10m from first layer\n",
    "#momentum (0.5-3)e3 MeV\n",
    "#300 mu-m radial position resolution\n",
    "#4cm between outer layers of one module\n",
    "#~6cm from center of module to edge?\n",
    "#1mm between the two U-layers\n",
    "\n",
    "\n",
    "#layers of 32 5mm bins, 1mm separated, 1cm between \"twin\" layers\n",
    "#\n",
    "# __ __ __ __\n",
    "#__ __ __ __\n",
    "#\n",
    "#__ __ __ __\n",
    "# __ __ __ __\n",
    "\n",
    "#2cm between U and V, 4cm between modules\n",
    "\n",
    "det_zs = np.ones((8,4))\n",
    "det_zs[:,0] *= 0\n",
    "det_zs[:,2] *= 3\n",
    "det_zs[:,3] *= 4\n",
    "for i in range(1,8):\n",
    "    det_zs[i] += i*8\n",
    "det_zs = det_zs.flatten()*1e-2\n",
    "    \n",
    "N_bins = 32\n",
    "N_det = len(det_zs)\n",
    "\n",
    "det_xs = np.tile(np.array([(i*6+2.5)*1e-3 for i in range(32)]),(N_det,1)) #i = z, j = x\n",
    "#leftshift_idx = [1,2,5,6,9,10,13,14] #i//2 even and i%2 odd or i//2 odd and i%2 even\n",
    "det_xs[[((i//2)%2 == 0 and (i%2) == 1) or ((i//2)%2 == 1 and (i%2) == 0) for i in range(N_det)]] -= 2.5e-3\n",
    "det_xs += (4.5 + 2)*1e-2 #distance to storage volume center"
   ]
  },
  {
   "cell_type": "markdown",
   "metadata": {},
   "source": [
    "### Tracker toy model\n",
    "\n",
    "Muon decaying at (x,z), producing positron with momentum p in z-direction. $\\vec{B} = B\\hat{y}$\n",
    "\n",
    "Since the Lorentz force only acts perpendicular to the direction of motion, $|v|$ and $\\gamma$ don't change, and the time derivative is simply\n",
    "$\\frac{d\\vec{v}}{dt} = \\frac{q}{\\gamma m} (\\vec{v} \\times \\vec{B}) = \\frac{qB}{\\gamma m} (v_x \\hat{z} - v_z\\hat{x})$\n",
    "\n",
    "$p_x = p\\sin(\\frac{qB}{\\gamma m} t)$<br/>\n",
    "$p_z = p\\cos(\\frac{qB}{\\gamma m} t)$\n",
    "\n",
    "$x = \\int_0^T v_x dt = -\\frac{\\gamma m}{qB} |v| (\\cos(\\frac{qB}{\\gamma m} T) - \\frac{v_z(0)}{|v|})$<br/>\n",
    "$z = \\int_0^T v_z dt = \\frac{\\gamma m}{qB} |v| (\\sin(\\frac{qB}{\\gamma m} T) - \\frac{v_x(0)}{|v|})$\n",
    "\n",
    "$z$ is fixed, so<br/>\n",
    "$T = \\frac{\\gamma m}{qB}\\arcsin(\\frac{qBz +\\gamma mv_x(0)}{\\gamma m |v|})$\n",
    "\n",
    "$x = \\frac{\\gamma m v_z(0)}{qB} - \\frac{\\gamma m|v|}{qB}\\cos(\\arcsin(\\frac{qBz +\\gamma mv_x(0)}{\\gamma m |v|})) = \\frac{\\gamma m v_z(0)}{qB} - \\frac{\\gamma m|v|}{qB}\\sqrt{1 - (\\frac{qBz +\\gamma mv_x(0)}{\\gamma m |v|})^2} = \\frac{\\gamma m v_z(0)}{qB} - \\frac{1}{qB}\\sqrt{\\gamma^2m^2|v|^2 - (qBz +\\gamma mv_x(0))^2}$<br/>\n",
    "$x = \\frac{\\gamma m v_z(0)}{qB} - \\frac{1}{qB}\\sqrt{\\gamma^2m^2v_z^2(0) - q^2B^2z^2 -2qBz\\gamma mv_x(0)} = \\frac{p_z(0)}{qB} - \\frac{1}{qB}\\sqrt{p_z^2(0) - q^2B^2z^2 -2qBzp_x(0)}$\n",
    "\n",
    "Change to use $|p|(0) = p$ and initial angle $\\phi = 0$ (from the z-axis):<br/>\n",
    "$x = \\frac{p}{qB} - \\frac{1}{qB}\\sqrt{p^2 - q^2B^2z^2} + x(0) = \\frac{p}{qB}(1 - \\sqrt{1 - \\frac{q^2B^2z^2}{p^2}}) + x(0)$"
   ]
  },
  {
   "cell_type": "code",
   "execution_count": 3,
   "metadata": {},
   "outputs": [],
   "source": [
    "#leave out e in momentum calc, and q's above\n",
    "\n",
    "c = constants.c\n",
    "#e = constants.e\n",
    "B = 1.45\n",
    "\n",
    "def calc_x(x,z,p):\n",
    "    # p is in GeV -> *1e9/c\n",
    "    p = p*1e9/c\n",
    "    \n",
    "    sq = p**2 - B**2*z**2\n",
    "    #take square root where possible\n",
    "    sq[sq>=0] = np.sqrt(sq[sq>=0])\n",
    "    \n",
    "    res = (p - sq)/B + x\n",
    "    res[sq<0] = -1\n",
    "\n",
    "    return res\n",
    "\n",
    "#example event x_toy,z_toy,p_toy\n",
    "toy=[1e-3,-0.73,1.9] #this produces hits in almost every layer\n",
    "#toy=[-1e-2,-0.64,2.3] #this is a flat event, leaving top layers w/o hits\n",
    "x_toy, z_toy, p_toy = toy"
   ]
  },
  {
   "cell_type": "code",
   "execution_count": 4,
   "metadata": {},
   "outputs": [],
   "source": [
    "def generate_event(x, z, p):\n",
    "    # generates an event from given x, z, p\n",
    "    # returns N_det x 2 array of centers of hit bins and z-position of layer\n",
    "    \n",
    "    hits = np.zeros((N_det,2))\n",
    "    hits[:,1] = det_zs\n",
    "    dist = det_zs-z\n",
    "    x_exp = calc_x(x,dist,p)\n",
    "    for i in range(N_det):\n",
    "        #check if x_exp < or > than end of detector (incl. -1)\n",
    "        if x_exp[i] < det_xs[i,0]-2.5e-3 or x_exp[i] > det_xs[i,-1]+2.5e-3: continue\n",
    "        \n",
    "        #figure out which bin it would hit\n",
    "        j = (np.abs(det_xs[i] - x_exp[i])).argmin()\n",
    "        if np.abs(x_exp[i]-det_xs[i,j]) <= 2.5e-3:\n",
    "            hits[i,0] = det_xs[i,j]\n",
    "    return hits\n",
    "\n",
    "#toy MC\n",
    "def MC_events(N_events, verbose_lvl = 0):\n",
    "    '''\n",
    "    sample source parameters from truncated Gaussian distribution of x, z, and p\n",
    "    and generate events using those.\n",
    "    N_events : int\n",
    "        number of desired events\n",
    "        \n",
    "    Returns:\n",
    "    events : list of generated events\n",
    "    truth : true parameters\n",
    "    '''\n",
    "\n",
    "    # truth array x,z,p\n",
    "    # p is in GeV -> *1e9/c\n",
    "    \n",
    "    x = []\n",
    "    z = []\n",
    "    p = []\n",
    "    events = []\n",
    "    \n",
    "    while len(events)<N_events:\n",
    "        # number of events to go\n",
    "        n_evs = N_events-len(events)\n",
    "        if verbose_lvl == 2:\n",
    "            print(\"# events done:\",len(events))\n",
    "            print(\"# events to go:\",n_evs)\n",
    "        _x = stats.truncnorm(-4.5,4.5,scale=0.01).rvs(n_evs) #draw between -4.5 and 4.5 cm\n",
    "        _z = stats.truncnorm(-4,3,loc=-0.8,scale=0.1).rvs(n_evs)  #draw between -1.2 and -0.5 m\n",
    "        _p = stats.truncnorm(-1.9/0.6,1.6/0.6,loc=1.9,scale=0.6).rvs(n_evs)  #draw between 0.5 and 3.5 GeV\n",
    "        #_p = stats.skewnorm(5,loc=0.7).rvs()  #alternatively if we want more realistic p distribution\n",
    "\n",
    "        for i in range(n_evs):\n",
    "            _ev = generate_event(_x[i],_z[i],_p[i])\n",
    "        \n",
    "            #check if particle produces at least 5 hits (3 layers)\n",
    "            if np.sum(_ev[:,0]>0)>4:\n",
    "                x.append(_x[i])\n",
    "                z.append(_z[i])\n",
    "                p.append(_p[i])\n",
    "                events.append(_ev)\n",
    "                if verbose_lvl >= 1:\n",
    "                    if len(events)%(N_events//10) == 0: print(N_events//10,\"events done\")\n",
    "        if verbose_lvl == 2:\n",
    "            print(\"# events thrown out:\",N_events - len(events))\n",
    "    \n",
    "    truth = np.asarray([x, z, p]).T\n",
    "    assert truth.shape[0] == len(events)\n",
    "        \n",
    "    return events, truth"
   ]
  },
  {
   "cell_type": "code",
   "execution_count": 5,
   "metadata": {},
   "outputs": [],
   "source": [
    "def plot_event(ev):\n",
    "    #plt scatter, then scatter event in red on top\n",
    "    \n",
    "    fig, ax = plt.subplots(figsize=(8, 6))\n",
    "    \n",
    "    for i in range(N_det):\n",
    "        ax.scatter(det_xs[i],np.ones(N_bins)*det_zs[i],marker=\"_\",s=100,color=\"grey\")\n",
    "    ax.scatter(ev[:,0][ev[:,0]>0],det_zs[ev[:,0]>0],marker=\"_\",s=100,color=\"red\")"
   ]
  },
  {
   "cell_type": "code",
   "execution_count": 6,
   "metadata": {},
   "outputs": [
    {
     "data": {
      "image/png": "[encoded data removed]",
      "text/plain": [
       "<Figure size 576x432 with 1 Axes>"
      ]
     },
     "metadata": {
      "needs_background": "light"
     },
     "output_type": "display_data"
    }
   ],
   "source": [
    "ev = generate_event(*toy)\n",
    "#print(ev)\n",
    "plot_event(ev)"
   ]
  },
  {
   "cell_type": "code",
   "execution_count": 7,
   "metadata": {},
   "outputs": [
    {
     "name": "stdout",
     "output_type": "stream",
     "text": [
      "# events done: 0\n",
      "# events to go: 1000000\n",
      "100000 events done\n",
      "100000 events done\n",
      "100000 events done\n",
      "100000 events done\n",
      "100000 events done\n",
      "100000 events done\n",
      "100000 events done\n",
      "100000 events done\n",
      "100000 events done\n",
      "# events thrown out: 30724\n",
      "# events done: 969276\n",
      "# events to go: 30724\n",
      "# events thrown out: 942\n",
      "# events done: 999058\n",
      "# events to go: 942\n",
      "# events thrown out: 26\n",
      "# events done: 999974\n",
      "# events to go: 26\n",
      "100000 events done\n",
      "# events thrown out: 0\n"
     ]
    }
   ],
   "source": [
    "#make toy MC data for neural net training\n",
    "N_mc = int(1e6)\n",
    "mc, truth = MC_events(N_mc,verbose_lvl=2)"
   ]
  },
  {
   "cell_type": "code",
   "execution_count": 8,
   "metadata": {},
   "outputs": [],
   "source": [
    "#neural nets\n",
    "\n",
    "hitnet = types.SimpleNamespace() \n",
    "\n",
    "hitnet.events = mc\n",
    "\n",
    "#count number of non-zero hits\n",
    "n_hits_per_event = []\n",
    "for item in mc:\n",
    "    n_hits_per_event.append(np.sum(item[:,0]>0))\n",
    "\n",
    "#separate the hits into single events, add number of non-zero hits\n",
    "hitnet.events = np.concatenate(hitnet.events)\n",
    "n_hits_per_event = np.array(n_hits_per_event)\n",
    "hitnet.events = np.vstack((hitnet.events.T,np.repeat(n_hits_per_event,N_det))).T\n",
    "\n",
    "hitnet.truth = np.repeat(truth, N_det, axis=0)\n",
    "\n",
    "assert hitnet.events.shape[0] == hitnet.truth.shape[0]"
   ]
  },
  {
   "cell_type": "code",
   "execution_count": 9,
   "metadata": {},
   "outputs": [
    {
     "data": {
      "image/png": "[encoded data removed]",
      "text/plain": [
       "<Figure size 432x288 with 1 Axes>"
      ]
     },
     "metadata": {
      "needs_background": "light"
     },
     "output_type": "display_data"
    }
   ],
   "source": [
    "plt.hist(hitnet.events[:,0], bins=100)#[hitnet.events[:,0]>0]\n",
    "plt.gca().set_yscale('log')\n",
    "plt.title('hit locations (x)')\n",
    "plt.xlabel('x')\n",
    "plt.show()"
   ]
  },
  {
   "cell_type": "code",
   "execution_count": 10,
   "metadata": {},
   "outputs": [],
   "source": [
    "#need trafo to combine measurements and (hypothetical) input params into input for NN\n",
    "class trafo(tf.keras.layers.Layer):\n",
    "\n",
    "    def call(self, hits, theta):\n",
    "        out = tf.stack([\n",
    "                 hits[:,0],\n",
    "                 hits[:,1],\n",
    "                 #hits[:,2],\n",
    "                 theta[:,0],\n",
    "                 theta[:,1],\n",
    "                 theta[:,2]\n",
    "                ],\n",
    "                axis=1\n",
    "                )\n",
    "        return out\n",
    "\n",
    "hitnet.trafo = trafo"
   ]
  },
  {
   "cell_type": "code",
   "execution_count": 11,
   "metadata": {},
   "outputs": [],
   "source": [
    "#make training and test datasets\n",
    "hitnet.x_train, hitnet.x_test, hitnet.t_train, hitnet.t_test = train_test_split(hitnet.events, hitnet.truth, test_size=0.2, random_state=42)\n",
    "hitnet.d_train = make_dataset(hitnet.x_train, hitnet.t_train)\n",
    "hitnet.d_test = make_dataset(hitnet.x_test, hitnet.t_test)"
   ]
  },
  {
   "cell_type": "code",
   "execution_count": 12,
   "metadata": {},
   "outputs": [
    {
     "name": "stdout",
     "output_type": "stream",
     "text": [
      "Model: \"model\"\n",
      "__________________________________________________________________________________________________\n",
      "Layer (type)                    Output Shape         Param #     Connected to                     \n",
      "==================================================================================================\n",
      "input_1 (InputLayer)            [(None, 3)]          0                                            \n",
      "__________________________________________________________________________________________________\n",
      "input_2 (InputLayer)            [(None, 3)]          0                                            \n",
      "__________________________________________________________________________________________________\n",
      "trafo (trafo)                   (None, 5)            0           input_1[0][0]                    \n",
      "                                                                 input_2[0][0]                    \n",
      "__________________________________________________________________________________________________\n",
      "dense (Dense)                   (None, 32)           192         trafo[0][0]                      \n",
      "__________________________________________________________________________________________________\n",
      "dropout (Dropout)               (None, 32)           0           dense[0][0]                      \n",
      "__________________________________________________________________________________________________\n",
      "dense_1 (Dense)                 (None, 64)           2112        dropout[0][0]                    \n",
      "__________________________________________________________________________________________________\n",
      "dropout_1 (Dropout)             (None, 64)           0           dense_1[0][0]                    \n",
      "__________________________________________________________________________________________________\n",
      "dense_2 (Dense)                 (None, 128)          8320        dropout_1[0][0]                  \n",
      "__________________________________________________________________________________________________\n",
      "dropout_2 (Dropout)             (None, 128)          0           dense_2[0][0]                    \n",
      "__________________________________________________________________________________________________\n",
      "dense_3 (Dense)                 (None, 64)           8256        dropout_2[0][0]                  \n",
      "__________________________________________________________________________________________________\n",
      "dropout_3 (Dropout)             (None, 64)           0           dense_3[0][0]                    \n",
      "__________________________________________________________________________________________________\n",
      "dense_4 (Dense)                 (None, 32)           2080        dropout_3[0][0]                  \n",
      "__________________________________________________________________________________________________\n",
      "dropout_4 (Dropout)             (None, 32)           0           dense_4[0][0]                    \n",
      "__________________________________________________________________________________________________\n",
      "dense_5 (Dense)                 (None, 1)            33          dropout_4[0][0]                  \n",
      "==================================================================================================\n",
      "Total params: 20,993\n",
      "Trainable params: 20,993\n",
      "Non-trainable params: 0\n",
      "__________________________________________________________________________________________________\n"
     ]
    }
   ],
   "source": [
    "## Neural Net\n",
    "\n",
    "activation='relu'\n",
    "\n",
    "x_input = tf.keras.Input(shape=(hitnet.x_train.shape[1],))\n",
    "t_input = tf.keras.Input(shape=(hitnet.t_train.shape[1],))\n",
    "\n",
    "h = hitnet.trafo()(x_input, t_input)\n",
    "\n",
    "#h = tf.keras.layers.Dense(16, activation=activation)(h)\n",
    "#h = tf.keras.layers.Dropout(0.01)(h)\n",
    "\n",
    "h = tf.keras.layers.Dense(32, activation=activation)(h)\n",
    "h = tf.keras.layers.Dropout(0.01)(h)\n",
    "\n",
    "h = tf.keras.layers.Dense(64, activation=activation)(h)\n",
    "h = tf.keras.layers.Dropout(0.01)(h)\n",
    "\n",
    "h = tf.keras.layers.Dense(128, activation=activation)(h)\n",
    "h = tf.keras.layers.Dropout(0.01)(h)\n",
    "\n",
    "h = tf.keras.layers.Dense(64, activation=activation)(h)\n",
    "h = tf.keras.layers.Dropout(0.01)(h)\n",
    "\n",
    "h = tf.keras.layers.Dense(32, activation=activation)(h)\n",
    "h = tf.keras.layers.Dropout(0.01)(h)\n",
    "\n",
    "#h = tf.keras.layers.Dense(16, activation=activation)(h)\n",
    "#h = tf.keras.layers.Dropout(0.01)(h)\n",
    "\n",
    "outputs = tf.keras.layers.Dense(1, activation='sigmoid')(h)\n",
    "\n",
    "hitnet.model = tf.keras.Model(inputs=[x_input, t_input], outputs=outputs)\n",
    "hitnet.model.summary()"
   ]
  },
  {
   "cell_type": "code",
   "execution_count": 13,
   "metadata": {},
   "outputs": [],
   "source": [
    "optimizer = tf.keras.optimizers.Adam(0.001)\n",
    "hitnet.model.compile(loss='binary_crossentropy', optimizer=optimizer)"
   ]
  },
  {
   "cell_type": "code",
   "execution_count": 14,
   "metadata": {},
   "outputs": [
    {
     "name": "stdout",
     "output_type": "stream",
     "text": [
      "Epoch 1/5\n",
      "12500/12500 [==============================] - 695s 56ms/step - loss: 0.3459 - val_loss: 0.2729\n",
      "Epoch 2/5\n",
      "12500/12500 [==============================] - 686s 55ms/step - loss: 0.2933 - val_loss: 0.2871\n",
      "Epoch 3/5\n",
      "12500/12500 [==============================] - 648s 52ms/step - loss: 0.2792 - val_loss: 0.2570\n",
      "Epoch 4/5\n",
      "12500/12500 [==============================] - 636s 51ms/step - loss: 0.2751 - val_loss: 0.2539\n",
      "Epoch 5/5\n",
      "12500/12500 [==============================] - 685s 55ms/step - loss: 0.2703 - val_loss: 0.2714\n"
     ]
    }
   ],
   "source": [
    "#training\n",
    "\n",
    "hitnet.hist = hitnet.model.fit(hitnet.d_train, epochs=5, verbose=1, validation_data=hitnet.d_test)"
   ]
  },
  {
   "cell_type": "code",
   "execution_count": 15,
   "metadata": {},
   "outputs": [
    {
     "data": {
      "image/png": "[encoded data removed]",
      "text/plain": [
       "<Figure size 432x288 with 1 Axes>"
      ]
     },
     "metadata": {
      "needs_background": "light"
     },
     "output_type": "display_data"
    }
   ],
   "source": [
    "plt.plot(hitnet.model.history.history['loss'],label='training error')\n",
    "plt.plot(hitnet.model.history.history['val_loss'],label='test error')\n",
    "plt.gca().set_yscale('log')\n",
    "plt.legend()\n",
    "plt.show()\n",
    "\n",
    "#compile neural net\n",
    "#log(sigmoid) = linear -> change last layer to get llh\n",
    "hitnet.llh = tf.keras.models.clone_model(hitnet.model)\n",
    "hitnet.llh.set_weights(hitnet.model.get_weights())\n",
    "hitnet.llh.layers[-1].activation = tf.keras.activations.linear\n",
    "hitnet.llh.compile()"
   ]
  },
  {
   "cell_type": "code",
   "execution_count": 16,
   "metadata": {},
   "outputs": [],
   "source": [
    "grid_spacing = 100\n",
    "\n",
    "#full range\n",
    "xs = np.linspace(-2.5e-2, 2.5e-2, grid_spacing)\n",
    "zs = np.linspace(-1, -0.5, grid_spacing)\n",
    "ps = np.linspace(0.5, 3.0, grid_spacing)"
   ]
  },
  {
   "cell_type": "code",
   "execution_count": 17,
   "metadata": {},
   "outputs": [],
   "source": [
    "len_ev = np.sum(ev[:,0]>0)"
   ]
  },
  {
   "cell_type": "code",
   "execution_count": 21,
   "metadata": {},
   "outputs": [
    {
     "data": {
      "image/png": "[encoded data removed]",
      "text/plain": [
       "<Figure size 432x288 with 1 Axes>"
      ]
     },
     "metadata": {
      "needs_background": "light"
     },
     "output_type": "display_data"
    }
   ],
   "source": [
    "#neural net scan\n",
    "p_zoom = np.array([-0.05,0.05]) + p_toy #0.1\n",
    "ps = np.linspace(*p_zoom, grid_spacing)\n",
    "\n",
    "scan_t = np.vstack([np.ones(grid_spacing)*x_toy,np.ones(grid_spacing)*z_toy,ps]).T\n",
    "scan_t = np.repeat(scan_t,N_det,axis=0)\n",
    "\n",
    "scan_x = np.tile(ev[:,0],grid_spacing)\n",
    "scan_x = np.vstack((scan_x,np.tile(ev[:,1],grid_spacing),len_ev*np.ones(grid_spacing*N_det))).T\n",
    "\n",
    "nn_p_scan = hitnet.llh.predict([scan_x,scan_t])\n",
    "\n",
    "nn_p_scan = -np.sum(nn_p_scan.reshape(-1,N_det),axis=1)\n",
    "plot_1d_scan(nn_p_scan, ps, p_toy, axis_label='$p_{src}$ (GeV)')"
   ]
  },
  {
   "cell_type": "code",
   "execution_count": 22,
   "metadata": {},
   "outputs": [
    {
     "data": {
      "image/png": "[encoded data removed]",
      "text/plain": [
       "<Figure size 432x288 with 1 Axes>"
      ]
     },
     "metadata": {
      "needs_background": "light"
     },
     "output_type": "display_data"
    }
   ],
   "source": [
    "#neural net scan\n",
    "z_zoom = np.array([-0.01,0.01]) + z_toy #0.015\n",
    "zs = np.linspace(*z_zoom, grid_spacing)\n",
    "\n",
    "scan_t = np.vstack([np.ones(grid_spacing)*x_toy,zs,np.ones(grid_spacing)*p_toy]).T\n",
    "scan_t = np.repeat(scan_t,N_det,axis=0)\n",
    "\n",
    "nn_z_scan = hitnet.llh.predict([scan_x,scan_t])\n",
    "\n",
    "nn_z_scan = -np.sum(nn_z_scan.reshape(-1,N_det),axis=1)\n",
    "plot_1d_scan(nn_z_scan, zs, z_toy, axis_label='$z_{src}$ (m)')"
   ]
  },
  {
   "cell_type": "code",
   "execution_count": 23,
   "metadata": {},
   "outputs": [
    {
     "data": {
      "image/png": "[encoded data removed]",
      "text/plain": [
       "<Figure size 432x288 with 1 Axes>"
      ]
     },
     "metadata": {
      "needs_background": "light"
     },
     "output_type": "display_data"
    }
   ],
   "source": [
    "#neural net scan\n",
    "x_zoom = np.array([-0.003,0.003]) + x_toy\n",
    "xs = np.linspace(*x_zoom, grid_spacing)\n",
    "\n",
    "scan_t = np.vstack([xs,np.ones(grid_spacing)*z_toy,np.ones(grid_spacing)*p_toy]).T\n",
    "scan_t = np.repeat(scan_t,N_det,axis=0)\n",
    "\n",
    "nn_x_scan = hitnet.llh.predict([scan_x,scan_t])\n",
    "\n",
    "nn_x_scan = -np.sum(nn_x_scan.reshape(-1,N_det),axis=1)\n",
    "plot_1d_scan(nn_x_scan, xs, x_toy, axis_label='$x_{src}$ (m)')"
   ]
  },
  {
   "cell_type": "markdown",
   "metadata": {},
   "source": [
    "Full range scans (and distribution of x hits) show similar shapes to samples drawn from uniform distributions. When adding the number of non zero hits feature, shapes change noticably."
   ]
  },
  {
   "cell_type": "code",
   "execution_count": 24,
   "metadata": {},
   "outputs": [
    {
     "data": {
      "image/png": "[encoded data removed]",
      "text/plain": [
       "<Figure size 432x288 with 2 Axes>"
      ]
     },
     "metadata": {
      "needs_background": "light"
     },
     "output_type": "display_data"
    }
   ],
   "source": [
    "#neural net scan\n",
    "mg = np.meshgrid(xs,ps)\n",
    "\n",
    "hitnet.grid_t = np.vstack([mg[0].flatten(),np.ones(grid_spacing**2)*z_toy,mg[1].flatten()]).T\n",
    "hitnet.grid_t = np.repeat(hitnet.grid_t,N_det,axis=0)\n",
    "\n",
    "hitnet.grid_x = np.tile(ev[:,0],grid_spacing**2)\n",
    "hitnet.grid_x = np.vstack((hitnet.grid_x,np.tile(ev[:,1],grid_spacing**2),len_ev*np.ones(grid_spacing**2*N_det))).T\n",
    "\n",
    "hitnet.grid_llh = hitnet.llh.predict([hitnet.grid_x,hitnet.grid_t])\n",
    "\n",
    "NN_x_p_scan = -np.sum(hitnet.grid_llh.reshape(-1, N_det), axis=1)\n",
    "plot_2d_scan(NN_x_p_scan, xs, ps, x_toy, p_toy, \n",
    "            axis_labels=['$x_{src}$ (m)','$p_{src}$ (GeV)'], vmax=100)"
   ]
  },
  {
   "cell_type": "code",
   "execution_count": 25,
   "metadata": {},
   "outputs": [
    {
     "data": {
      "image/png": "[encoded data removed]",
      "text/plain": [
       "<Figure size 432x288 with 2 Axes>"
      ]
     },
     "metadata": {
      "needs_background": "light"
     },
     "output_type": "display_data"
    }
   ],
   "source": [
    "#neural net scan\n",
    "mg = np.meshgrid(zs,ps)\n",
    "\n",
    "hitnet.grid_t = np.vstack([np.ones(grid_spacing**2)*x_toy,mg[0].flatten(),mg[1].flatten()]).T\n",
    "hitnet.grid_t = np.repeat(hitnet.grid_t,N_det,axis=0)\n",
    "\n",
    "hitnet.grid_llh = hitnet.llh.predict([hitnet.grid_x,hitnet.grid_t])\n",
    "\n",
    "NN_z_p_scan = -np.sum(hitnet.grid_llh.reshape(-1, N_det), axis=1)\n",
    "plot_2d_scan(NN_z_p_scan, zs, ps, z_toy, p_toy, \n",
    "            axis_labels=['$z_{src}$ (m)', '$p_{src}$ (GeV)'], vmax=100)"
   ]
  },
  {
   "cell_type": "code",
   "execution_count": 26,
   "metadata": {},
   "outputs": [
    {
     "data": {
      "image/png": "[encoded data removed]",
      "text/plain": [
       "<Figure size 432x288 with 2 Axes>"
      ]
     },
     "metadata": {
      "needs_background": "light"
     },
     "output_type": "display_data"
    }
   ],
   "source": [
    "#neural net scan\n",
    "mg = np.meshgrid(xs,zs)\n",
    "\n",
    "hitnet.grid_t = np.vstack([mg[0].flatten(),mg[1].flatten(),np.ones(grid_spacing**2)*p_toy]).T\n",
    "hitnet.grid_t = np.repeat(hitnet.grid_t,N_det,axis=0)\n",
    "\n",
    "hitnet.grid_llh = hitnet.llh.predict([hitnet.grid_x,hitnet.grid_t])\n",
    "\n",
    "NN_x_z_scan = -np.sum(hitnet.grid_llh.reshape(-1, N_det), axis=1)\n",
    "plot_2d_scan(NN_x_z_scan, xs, zs, x_toy, z_toy, \n",
    "            axis_labels=['$x_{src}$ (m)', '$z_{src}$ (m)'], vmax=100)"
   ]
  },
  {
   "cell_type": "code",
   "execution_count": 31,
   "metadata": {},
   "outputs": [
    {
     "name": "stdout",
     "output_type": "stream",
     "text": [
      "0.001 -0.73 1.9\n",
      "-54.97627\n"
     ]
    }
   ],
   "source": [
    "#minimize nn output\n",
    "def llh_fct(theta,event):\n",
    "    #wrapper function\n",
    "\n",
    "    #event is nx2 array\n",
    "    len_ev = np.sum(event[:,0]>0)\n",
    "    \n",
    "    #repeat truth for each hit in event\n",
    "    params = np.tile(theta,len(event)).reshape((len(event),-1)) \n",
    "    #add number of nonzero events\n",
    "    obs = np.vstack((event.T,len_ev*np.ones(len(event)))).T\n",
    "    \n",
    "    #let neural net predict llh for each event, sum is total llh\n",
    "    pred = hitnet.llh.predict([obs,params])\n",
    "    return -np.sum(pred)\n",
    "\n",
    "print(*toy)\n",
    "true_llh_nn = llh_fct(toy,ev)\n",
    "print(true_llh_nn)"
   ]
  },
  {
   "cell_type": "code",
   "execution_count": 32,
   "metadata": {},
   "outputs": [],
   "source": [
    "def bound_min(min_fct, x0, bounds, ev):\n",
    "    #run a bound minimizer\n",
    "    \n",
    "    #x0 starting guess\n",
    "    #bounds must be list of tuples, len = len(x0)\n",
    "    opt_params = minimize(min_fct,x0,args=(ev),method='Powell',bounds=bounds,options={'maxiter':100000})\n",
    "    \n",
    "    print(\"starting guess:\",x0)\n",
    "    if opt_params.success:\n",
    "        print(\"function value:\",opt_params.fun)\n",
    "        print(\"\\nerrors:\")\n",
    "        print(\"x (mm):\",1000*(opt_params.x[0]-x_toy))\n",
    "        print(\"z (mm):\",1000*(opt_params.x[1]-z_toy))\n",
    "        print(\"p (MeV):\",1000*(opt_params.x[2]-p_toy))\n",
    "        print(\"\\nrelative error (%):\")\n",
    "        print(100*(opt_params.x - [x_toy,z_toy,p_toy])/[x_toy,z_toy,p_toy])\n",
    "        print(\"\\n\")\n",
    "        \n",
    "    else: print(\"Minimization failed!\")\n",
    "        \n",
    "    return opt_params.fun, opt_params.x"
   ]
  },
  {
   "cell_type": "code",
   "execution_count": 33,
   "metadata": {},
   "outputs": [
    {
     "name": "stdout",
     "output_type": "stream",
     "text": [
      "starting guess: [-0.025, -1, 0.5]\n",
      "function value: -53.89834\n",
      "\n",
      "errors:\n",
      "x (mm): 23.810862893860925\n",
      "z (mm): 192.18855545128554\n",
      "p (MeV): -327.2294533739084\n",
      "\n",
      "relative error (%):\n",
      "[2381.08628939  -26.32719938  -17.22260281]\n",
      "\n",
      "\n"
     ]
    }
   ],
   "source": [
    "#minimize NN output with different starting guesses\n",
    "f_nn, opt_nn = bound_min(llh_fct,[-2.5e-2,-1,0.5],[(-2.5e-2,2.5e-2),(-1,-0.5),(0.5,3.0)],ev)\n",
    "if f_nn<=true_llh_nn:\n",
    "    print(\"LLH of truth:\",true_llh_nn)\n",
    "    print(\"NN llh of found min:\",f_nn)"
   ]
  },
  {
   "cell_type": "code",
   "execution_count": 34,
   "metadata": {},
   "outputs": [
    {
     "name": "stdout",
     "output_type": "stream",
     "text": [
      "starting guess: [0.025, -0.5, 3.0]\n",
      "function value: -57.270863\n",
      "\n",
      "errors:\n",
      "x (mm): 7.91199488504768\n",
      "z (mm): 47.19245254384574\n",
      "p (MeV): -45.241930771924956\n",
      "\n",
      "relative error (%):\n",
      "[791.1994885   -6.46471953  -2.38115425]\n",
      "\n",
      "\n",
      "LLH of truth: -54.97627\n",
      "NN llh of found min: -57.270863\n"
     ]
    }
   ],
   "source": [
    "#minimize NN output with different starting guesses\n",
    "f_nn, opt_nn = bound_min(llh_fct,[2.5e-2,-0.5,3.0],[(-2.5e-2,2.5e-2),(-1,-0.5),(0.5,3.0)],ev)\n",
    "if f_nn<=true_llh_nn:\n",
    "    print(\"LLH of truth:\",true_llh_nn)\n",
    "    print(\"NN llh of found min:\",f_nn)"
   ]
  },
  {
   "cell_type": "code",
   "execution_count": 35,
   "metadata": {},
   "outputs": [
    {
     "name": "stdout",
     "output_type": "stream",
     "text": [
      "starting guess: [-0.002, -0.74, 1.8499999999999999]\n",
      "function value: -57.878113\n",
      "\n",
      "errors:\n",
      "x (mm): 2.9448030647352788\n",
      "z (mm): 7.61494092714976\n",
      "p (MeV): 22.048498979918342\n",
      "\n",
      "relative error (%):\n",
      "[294.48030647  -1.04314259   1.16044731]\n",
      "\n",
      "\n",
      "LLH of truth: -54.97627\n",
      "NN llh of found min: -57.878113\n"
     ]
    }
   ],
   "source": [
    "#minimize NN output with different starting guesses\n",
    "f_nn, opt_nn = bound_min(llh_fct,[x_zoom[0],z_zoom[0],p_zoom[0]],[x_zoom,z_zoom,p_zoom],ev)\n",
    "if f_nn<=true_llh_nn:\n",
    "    print(\"LLH of truth:\",true_llh_nn)\n",
    "    print(\"NN llh of found min:\",f_nn)"
   ]
  },
  {
   "cell_type": "code",
   "execution_count": 36,
   "metadata": {},
   "outputs": [
    {
     "name": "stdout",
     "output_type": "stream",
     "text": [
      "starting guess: [0.004, -0.72, 1.95]\n",
      "function value: -58.044548\n",
      "\n",
      "errors:\n",
      "x (mm): 1.5165097288139984\n",
      "z (mm): -5.896011794453537\n",
      "p (MeV): 49.983639497824804\n",
      "\n",
      "relative error (%):\n",
      "[151.65097288   0.80767285   2.63071787]\n",
      "\n",
      "\n",
      "LLH of truth: -54.97627\n",
      "NN llh of found min: -58.044548\n"
     ]
    }
   ],
   "source": [
    "#minimize NN output with different starting guesses\n",
    "f_nn, opt_nn = bound_min(llh_fct,[x_zoom[1],z_zoom[1],p_zoom[1]],[x_zoom,z_zoom,p_zoom],ev)\n",
    "if f_nn<=true_llh_nn:\n",
    "    print(\"LLH of truth:\",true_llh_nn)\n",
    "    print(\"NN llh of found min:\",f_nn)"
   ]
  },
  {
   "cell_type": "code",
   "execution_count": 37,
   "metadata": {},
   "outputs": [
    {
     "name": "stdout",
     "output_type": "stream",
     "text": [
      "starting guess: [0.001, -0.73, 1.9]\n",
      "function value: -57.59615\n",
      "\n",
      "errors:\n",
      "x (mm): 2.388214187754489\n",
      "z (mm): 9.99975819985288\n",
      "p (MeV): 4.74410435667294\n",
      "\n",
      "relative error (%):\n",
      "[238.82141878  -1.36982989   0.2496897 ]\n",
      "\n",
      "\n",
      "LLH of truth: -54.97627\n",
      "NN llh of found min: -57.59615\n"
     ]
    }
   ],
   "source": [
    "#minimize NN output with different starting guesses\n",
    "f_nn, opt_nn = bound_min(llh_fct,toy,[x_zoom,z_zoom,p_zoom],ev)\n",
    "if f_nn<=true_llh_nn:\n",
    "    print(\"LLH of truth:\",true_llh_nn)\n",
    "    print(\"NN llh of found min:\",f_nn)"
   ]
  },
  {
   "cell_type": "markdown",
   "metadata": {},
   "source": [
    "Again no difference if starting from full range or zoom. For many hits, one side not very good results, other side good, starting from truth returns ok result. For fewer hits all results are pretty good."
   ]
  },
  {
   "cell_type": "markdown",
   "metadata": {},
   "source": [
    "Adding the number of non zero events feature actually makes the performance worse. NN doesn't reconstruct minima as precisely as without."
   ]
  },
  {
   "cell_type": "code",
   "execution_count": null,
   "metadata": {},
   "outputs": [],
   "source": []
  }
 ],
 "metadata": {
  "kernelspec": {
   "display_name": "tf_keras",
   "language": "python",
   "name": "tf_keras"
  },
  "language_info": {
   "codemirror_mode": {
    "name": "ipython",
    "version": 3
   },
   "file_extension": ".py",
   "mimetype": "text/x-python",
   "name": "python",
   "nbconvert_exporter": "python",
   "pygments_lexer": "ipython3",
   "version": "3.8.5"
  }
 },
 "nbformat": 4,
 "nbformat_minor": 4
}
